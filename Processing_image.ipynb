{
  "nbformat": 4,
  "nbformat_minor": 0,
  "metadata": {
    "colab": {
      "name": "Processing_image.ipynb",
      "provenance": [],
      "machine_shape": "hm",
      "authorship_tag": "ABX9TyOahrin0i5xhKvtdF4Z4S42",
      "include_colab_link": true
    },
    "kernelspec": {
      "name": "python3",
      "display_name": "Python 3"
    },
    "language_info": {
      "name": "python"
    },
    "accelerator": "GPU",
    "gpuClass": "standard"
  },
  "cells": [
    {
      "cell_type": "markdown",
      "metadata": {
        "id": "view-in-github",
        "colab_type": "text"
      },
      "source": [
        "<a href=\"https://colab.research.google.com/github/zainal-77/Image_Processing/blob/main/Processing_image.ipynb\" target=\"_parent\"><img src=\"https://colab.research.google.com/assets/colab-badge.svg\" alt=\"Open In Colab\"/></a>"
      ]
    },
    {
      "cell_type": "code",
      "execution_count": null,
      "metadata": {
        "id": "n7OwMVSHQSWf"
      },
      "outputs": [],
      "source": [
        "import numpy as np\n",
        "import cv2\n",
        "from PIL import Image\n",
        "import matplotlib"
      ]
    },
    {
      "cell_type": "code",
      "source": [
        "img = cv2.imread('test.jpg')\n",
        "print(img)"
      ],
      "metadata": {
        "id": "i4G0BNmeQXQ0"
      },
      "execution_count": null,
      "outputs": []
    },
    {
      "cell_type": "code",
      "source": [
        "img.shape"
      ],
      "metadata": {
        "id": "Jz86_gfUQdcl"
      },
      "execution_count": null,
      "outputs": []
    },
    {
      "cell_type": "code",
      "source": [
        "# Read image using OpenCV\n",
        "img_cv = cv2.imread('test.jpg')\n",
        "img_cv"
      ],
      "metadata": {
        "id": "UaNvJ4s9QfIL"
      },
      "execution_count": null,
      "outputs": []
    },
    {
      "cell_type": "code",
      "source": [
        "\n",
        "img_cv.shape\n"
      ],
      "metadata": {
        "id": "u3uN-fkgQglD"
      },
      "execution_count": null,
      "outputs": []
    },
    {
      "cell_type": "code",
      "source": [
        "%matplotlib inline\n",
        "\n",
        "# OpenCV starts from BGR\n",
        "plt.imshow(img_cv)"
      ],
      "metadata": {
        "id": "tYxqi_lBQlF_"
      },
      "execution_count": null,
      "outputs": []
    },
    {
      "cell_type": "code",
      "source": [
        "img = cv2.imread('test.jpg')\n",
        "img.shape"
      ],
      "metadata": {
        "id": "0Ii_YLqUQiYG"
      },
      "execution_count": null,
      "outputs": []
    },
    {
      "cell_type": "code",
      "source": [
        "gray = cv2.cvtColor(img, cv2.COLOR_BGR2GRAY)\n",
        "gray.shape"
      ],
      "metadata": {
        "id": "mfJOqKuWQnUB"
      },
      "execution_count": null,
      "outputs": []
    },
    {
      "cell_type": "code",
      "source": [
        "plt.imshow(gray, cmap='gray')"
      ],
      "metadata": {
        "id": "muXcjvCZQoyl"
      },
      "execution_count": null,
      "outputs": []
    },
    {
      "cell_type": "code",
      "source": [
        "gray[0:10,0:10]"
      ],
      "metadata": {
        "id": "Eyq1ct91QqSJ"
      },
      "execution_count": null,
      "outputs": []
    },
    {
      "cell_type": "code",
      "source": [
        "slice = gray[0:10,0:10]\n",
        "plt.imshow(slice, cmap='gray')"
      ],
      "metadata": {
        "id": "eKffHFIKQsHx"
      },
      "execution_count": null,
      "outputs": []
    },
    {
      "cell_type": "markdown",
      "source": [
        "Berikut adalah pojok kiri gambar atas dengan ukuran 10x10 pixel, dari ukuran gambar aslinya 1200x1600 pixel.\n",
        "\n",
        "Kemudian akan ada saatnya kita perlu meresize gambar kita, baik itu menjadi lebih kecil atau lebih besar. Kita juga bisa menggunakan fungsi resize yang ada di dalam OpenCV."
      ],
      "metadata": {
        "id": "zuWzvEArQuqN"
      }
    },
    {
      "cell_type": "code",
      "source": [
        "# Shrink\n",
        "img_re = cv2.resize(gray, (500,400), cv2.INTER_AREA)\n",
        "img_re.shape"
      ],
      "metadata": {
        "id": "oTFpfYrFQxml"
      },
      "execution_count": null,
      "outputs": []
    },
    {
      "cell_type": "code",
      "source": [
        "plt.imshow(img_re, cmap='gray')"
      ],
      "metadata": {
        "id": "bIL4CRNcQzJq"
      },
      "execution_count": null,
      "outputs": []
    },
    {
      "cell_type": "code",
      "source": [
        "# Enlarge\n",
        "img_en = cv2.resize(gray, (2000,1600), cv2.INTER_CUBIC)\n",
        "img_en.shape"
      ],
      "metadata": {
        "id": "Ij30Lv2OQ0bG"
      },
      "execution_count": null,
      "outputs": []
    },
    {
      "cell_type": "code",
      "source": [
        "plt.imshow(img_en, cmap='gray')"
      ],
      "metadata": {
        "id": "zXO_0t9gQ1ve"
      },
      "execution_count": null,
      "outputs": []
    },
    {
      "cell_type": "code",
      "source": [
        ""
      ],
      "metadata": {
        "id": "OnnRkLeoQ4HL"
      },
      "execution_count": null,
      "outputs": []
    }
  ]
}